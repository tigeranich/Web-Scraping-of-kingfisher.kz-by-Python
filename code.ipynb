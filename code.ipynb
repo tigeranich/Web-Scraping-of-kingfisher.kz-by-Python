{
 "cells": [
  {
   "cell_type": "code",
   "execution_count": 2,
   "metadata": {},
   "outputs": [
    {
     "name": "stdout",
     "output_type": "stream",
     "text": [
      "Requirement already satisfied: lxml in c:\\users\\lenovo\\anaconda3\\lib\\site-packages (4.5.2)\n"
     ]
    }
   ],
   "source": [
    "!pip install lxml"
   ]
  },
  {
   "cell_type": "code",
   "execution_count": 3,
   "metadata": {},
   "outputs": [
    {
     "name": "stdout",
     "output_type": "stream",
     "text": [
      "Requirement already satisfied: requests in c:\\users\\lenovo\\anaconda3\\lib\\site-packages (2.24.0)\n",
      "Requirement already satisfied: chardet<4,>=3.0.2 in c:\\users\\lenovo\\anaconda3\\lib\\site-packages (from requests) (3.0.4)\n",
      "Requirement already satisfied: urllib3!=1.25.0,!=1.25.1,<1.26,>=1.21.1 in c:\\users\\lenovo\\anaconda3\\lib\\site-packages (from requests) (1.25.9)\n",
      "Requirement already satisfied: certifi>=2017.4.17 in c:\\users\\lenovo\\anaconda3\\lib\\site-packages (from requests) (2020.6.20)\n",
      "Requirement already satisfied: idna<3,>=2.5 in c:\\users\\lenovo\\anaconda3\\lib\\site-packages (from requests) (2.10)\n"
     ]
    }
   ],
   "source": [
    "!pip install requests"
   ]
  },
  {
   "cell_type": "code",
   "execution_count": 1,
   "metadata": {},
   "outputs": [
    {
     "name": "stdout",
     "output_type": "stream",
     "text": [
      "Requirement already satisfied: beautifulsoup4 in c:\\users\\lenovo\\anaconda3\\lib\\site-packages (4.9.1)\n",
      "Requirement already satisfied: soupsieve>1.2 in c:\\users\\lenovo\\anaconda3\\lib\\site-packages (from beautifulsoup4) (2.0.1)\n"
     ]
    }
   ],
   "source": [
    "!pip install beautifulsoup4"
   ]
  },
  {
   "cell_type": "markdown",
   "metadata": {},
   "source": [
    "Импортируем библиотеки"
   ]
  },
  {
   "cell_type": "code",
   "execution_count": 3,
   "metadata": {},
   "outputs": [],
   "source": [
    "import requests\n",
    "from bs4 import BeautifulSoup\n",
    "import pandas as pd"
   ]
  },
  {
   "cell_type": "markdown",
   "metadata": {},
   "source": [
    "# Основной код"
   ]
  },
  {
   "cell_type": "code",
   "execution_count": 5,
   "metadata": {},
   "outputs": [],
   "source": [
    "url = 'https://kingfisher.kz/'\n",
    "response = requests.get(url)\n",
    "rext = response.text"
   ]
  },
  {
   "cell_type": "code",
   "execution_count": 6,
   "metadata": {},
   "outputs": [],
   "source": [
    "soup = BeautifulSoup(rext, 'lxml')"
   ]
  },
  {
   "cell_type": "code",
   "execution_count": 7,
   "metadata": {},
   "outputs": [],
   "source": [
    "soup1 = soup.find('ul', class_ = 'topMenu')"
   ]
  },
  {
   "cell_type": "markdown",
   "metadata": {},
   "source": [
    "### Создаем список категорий товаров"
   ]
  },
  {
   "cell_type": "code",
   "execution_count": 8,
   "metadata": {},
   "outputs": [
    {
     "name": "stdout",
     "output_type": "stream",
     "text": [
      "['Морепродукты', 'Морепродукты', 'Морепродукты', 'Морепродукты', 'Морепродукты', 'Морепродукты', 'Морепродукты', 'Морепродукты', 'Морепродукты', 'Морепродукты', 'Морепродукты', 'Морепродукты', 'Рыба', 'Рыба', 'Рыба', 'Рыба', 'Рыба', 'Рыба', 'Рыба', 'Рыба', 'Рыба', 'Икра', 'Икра', 'Икра', 'Мясо', 'Мясо', 'Мясо', 'Бакалея', 'Бакалея', 'Бакалея', 'Бакалея', 'Бакалея', 'Бакалея', 'Бакалея', 'Бакалея', 'Бакалея', 'Бакалея', 'Бакалея', 'Бакалея', 'Бакалея', 'Бакалея', 'Бакалея', 'Бакалея', 'Бакалея', 'Бакалея', 'Бакалея', 'Бакалея', 'Бакалея', 'Бакалея', 'Бакалея', 'Масло', 'Масло', 'Масло', 'Масло', 'Масло', 'Масло', 'Кухня']\n",
      "57\n"
     ]
    }
   ],
   "source": [
    "marine_goods1 = soup1.find_all('a')\n",
    "names1 = []\n",
    "for product1 in marine_goods1:\n",
    "    try:\n",
    "        parent1 = product1.find_parent('li', class_ = 'dropmenu')\n",
    "        name1 = parent1.find('span').text\n",
    "        names1.append(name1)\n",
    "    except:\n",
    "        continue\n",
    "print(names1)\n",
    "print(len(names1))"
   ]
  },
  {
   "cell_type": "markdown",
   "metadata": {},
   "source": [
    "### Создаем список ссылок на подкатегории"
   ]
  },
  {
   "cell_type": "code",
   "execution_count": 9,
   "metadata": {
    "scrolled": true
   },
   "outputs": [
    {
     "data": {
      "text/plain": [
       "['https://kingfisher.kz/moreprodukty/krevetki/',\n",
       " 'https://kingfisher.kz/moreprodukty/kraby/',\n",
       " 'https://kingfisher.kz/moreprodukty/ustricy/',\n",
       " 'https://kingfisher.kz/moreprodukty/grebeshok/',\n",
       " 'https://kingfisher.kz/moreprodukty/midii/',\n",
       " 'https://kingfisher.kz/moreprodukty/osminogi/',\n",
       " 'https://kingfisher.kz/moreprodukty/lobstery/',\n",
       " 'https://kingfisher.kz/moreprodukty/kalmary/',\n",
       " 'https://kingfisher.kz/moreprodukty/morskoy-kokteyl/',\n",
       " 'https://kingfisher.kz/moreprodukty/vongole/',\n",
       " 'https://kingfisher.kz/moreprodukty/morskoy-ezh/',\n",
       " 'https://kingfisher.kz/moreprodukty/ulitki-burgundskie/',\n",
       " 'https://kingfisher.kz/ryba/ohlazhdennaya-ryba/',\n",
       " 'https://kingfisher.kz/ryba/zamorozhennaya-ryba/',\n",
       " 'https://kingfisher.kz/ryba/file-iz-ryby/',\n",
       " 'https://kingfisher.kz/ryba/ryba-kopchenaya/',\n",
       " 'https://kingfisher.kz/ryba/rifovaya-ryba/',\n",
       " 'https://kingfisher.kz/ryba/malosolnaya-ryba/',\n",
       " 'https://kingfisher.kz/ryba/konservy/',\n",
       " 'https://kingfisher.kz/ryba/konservy/delikatesy/',\n",
       " 'https://kingfisher.kz/bakaleya/konservy/bering/',\n",
       " 'https://kingfisher.kz/ikra/ikra-krasnaya/',\n",
       " 'https://kingfisher.kz/ikra/chernaya-ikra/',\n",
       " 'https://kingfisher.kz/ikra/ikra-morskogo-ezha/',\n",
       " 'https://kingfisher.kz/myaso/hamon/',\n",
       " 'https://kingfisher.kz/myaso/myaso-utki/',\n",
       " 'https://kingfisher.kz/myaso/baranina/',\n",
       " 'https://kingfisher.kz/bakaleya/tryufel/',\n",
       " 'https://kingfisher.kz/bakaleya/makarony/',\n",
       " 'https://kingfisher.kz/bakaleya/makarony/italyanskaya-kuhnya/',\n",
       " 'https://kingfisher.kz/bakaleya/antipasti/',\n",
       " 'https://kingfisher.kz/bakaleya/antipasti/antipasti-le-bonta/',\n",
       " 'https://kingfisher.kz/bakaleya/antipasti/antipasti-alicos/',\n",
       " 'https://kingfisher.kz/bakaleya/specii/',\n",
       " 'https://kingfisher.kz/bakaleya/balzamik/',\n",
       " 'https://kingfisher.kz/bakaleya/balzamik/giuseppe-giusti/',\n",
       " 'https://kingfisher.kz/bakaleya/cheeses/',\n",
       " 'https://kingfisher.kz/bakaleya/cheeses/ispanskie/',\n",
       " 'https://kingfisher.kz/bakaleya/cheeses/parmezan/',\n",
       " 'https://kingfisher.kz/bakaleya/cheeses/myagkiy-syr/',\n",
       " 'https://kingfisher.kz/bakaleya/sladosti/',\n",
       " 'https://kingfisher.kz/bakaleya/napitki/',\n",
       " 'https://kingfisher.kz/bakaleya/napitki/alternativnoe-moloko/',\n",
       " 'https://kingfisher.kz/bakaleya/aziatskaya-kuhnya/',\n",
       " 'https://kingfisher.kz/bakaleya/aziatskaya-kuhnya/funcheza-lapsha/',\n",
       " 'https://kingfisher.kz/bakaleya/aziatskaya-kuhnya/sousy-i-pasty/',\n",
       " 'https://kingfisher.kz/bakaleya/aziatskaya-kuhnya/kokosovoe-moloko-maslo-slivki/',\n",
       " 'https://kingfisher.kz/bakaleya/aziatskaya-kuhnya/vodorosli/',\n",
       " 'https://kingfisher.kz/bakaleya/aziatskaya-kuhnya/griby/',\n",
       " 'https://kingfisher.kz/bakaleya/ris/',\n",
       " 'https://kingfisher.kz/maslo/olive-oil-barbera/',\n",
       " 'https://kingfisher.kz/maslo/olive-oil-finca-la-torre/',\n",
       " 'https://kingfisher.kz/maslo/kokosovoe-maslo/',\n",
       " 'https://kingfisher.kz/maslo/kunzhutnoe-maslo/',\n",
       " 'https://kingfisher.kz/maslo/avokado-maslo/',\n",
       " 'https://kingfisher.kz/maslo/maslo-slivochnoe/',\n",
       " 'https://kingfisher.kz/kuhnya/skovorody-vaella/']"
      ]
     },
     "execution_count": 9,
     "metadata": {},
     "output_type": "execute_result"
    }
   ],
   "source": [
    "marine_goods = soup1.find_all('a')\n",
    "links = []\n",
    "for product in marine_goods:\n",
    "    if product.text == 'Акции' or product.text == 'Рецепты':\n",
    "        continue\n",
    "    link = url + product.get('href')[1:]\n",
    "    links.append(link) \n",
    "links"
   ]
  },
  {
   "cell_type": "markdown",
   "metadata": {},
   "source": [
    "### Создаем список цен и названий товаров"
   ]
  },
  {
   "cell_type": "code",
   "execution_count": 12,
   "metadata": {},
   "outputs": [],
   "source": [
    "catname = []\n",
    "name_list = []\n",
    "price_list = []\n",
    "count = -1\n",
    "for link in links:\n",
    "    count += 1\n",
    "    url = link\n",
    "    response = requests.get(url)\n",
    "    rext = response.text\n",
    "    \n",
    "    soup2 = BeautifulSoup(rext, 'lxml')\n",
    "    \n",
    "    soup3 = soup2.find_all('div', class_ = 'goodsBlock')\n",
    "    dict_krevetki = {}\n",
    "    for i in soup3:\n",
    "        name = i.find('a', class_ = 'title').text\n",
    "        price = i.find('span', class_ = 'price').find('span', class_ = 'new').text\n",
    "        catname.append(names1[count])\n",
    "        name_list.append(name)\n",
    "        price_list.append(price)"
   ]
  },
  {
   "cell_type": "markdown",
   "metadata": {},
   "source": [
    "### Создаем таблицу "
   ]
  },
  {
   "cell_type": "code",
   "execution_count": 11,
   "metadata": {},
   "outputs": [
    {
     "data": {
      "text/html": [
       "<div>\n",
       "<style scoped>\n",
       "    .dataframe tbody tr th:only-of-type {\n",
       "        vertical-align: middle;\n",
       "    }\n",
       "\n",
       "    .dataframe tbody tr th {\n",
       "        vertical-align: top;\n",
       "    }\n",
       "\n",
       "    .dataframe thead th {\n",
       "        text-align: right;\n",
       "    }\n",
       "</style>\n",
       "<table border=\"1\" class=\"dataframe\">\n",
       "  <thead>\n",
       "    <tr style=\"text-align: right;\">\n",
       "      <th></th>\n",
       "      <th>категория</th>\n",
       "      <th>наименование</th>\n",
       "      <th>цена</th>\n",
       "    </tr>\n",
       "  </thead>\n",
       "  <tbody>\n",
       "    <tr>\n",
       "      <th>0</th>\n",
       "      <td>Морепродукты</td>\n",
       "      <td>Креветки Королевские 26/30 очищенные</td>\n",
       "      <td>5 290 Т</td>\n",
       "    </tr>\n",
       "    <tr>\n",
       "      <th>1</th>\n",
       "      <td>Морепродукты</td>\n",
       "      <td>Креветка Королевская 31/40 очищенная</td>\n",
       "      <td>5 900 Т</td>\n",
       "    </tr>\n",
       "    <tr>\n",
       "      <th>2</th>\n",
       "      <td>Морепродукты</td>\n",
       "      <td>Лангустины в панцире с головой, размер 21-30</td>\n",
       "      <td>6 500 Т</td>\n",
       "    </tr>\n",
       "    <tr>\n",
       "      <th>3</th>\n",
       "      <td>Морепродукты</td>\n",
       "      <td>Креветка Королевская  21/25, в панцире без головы</td>\n",
       "      <td>5 500 Т</td>\n",
       "    </tr>\n",
       "    <tr>\n",
       "      <th>4</th>\n",
       "      <td>Морепродукты</td>\n",
       "      <td>Чука салат замороженный</td>\n",
       "      <td>2 800 Т</td>\n",
       "    </tr>\n",
       "    <tr>\n",
       "      <th>...</th>\n",
       "      <td>...</td>\n",
       "      <td>...</td>\n",
       "      <td>...</td>\n",
       "    </tr>\n",
       "    <tr>\n",
       "      <th>445</th>\n",
       "      <td>Масло</td>\n",
       "      <td>Масло Авокадо Avocado Oil</td>\n",
       "      <td>4 000 Т</td>\n",
       "    </tr>\n",
       "    <tr>\n",
       "      <th>446</th>\n",
       "      <td>Масло</td>\n",
       "      <td>Масло Сливочное BURRO ASOLO</td>\n",
       "      <td>1 790 Т</td>\n",
       "    </tr>\n",
       "    <tr>\n",
       "      <th>447</th>\n",
       "      <td>Кухня</td>\n",
       "      <td>Сковорода для Паэльи  38 см</td>\n",
       "      <td>9 000 Т</td>\n",
       "    </tr>\n",
       "    <tr>\n",
       "      <th>448</th>\n",
       "      <td>Кухня</td>\n",
       "      <td>Чугунная Сковорода Гриль VAELLO</td>\n",
       "      <td>12 500 Т</td>\n",
       "    </tr>\n",
       "    <tr>\n",
       "      <th>449</th>\n",
       "      <td>Кухня</td>\n",
       "      <td>Чугунная Сковорода Круглая VAELLO</td>\n",
       "      <td>13 000 Т</td>\n",
       "    </tr>\n",
       "  </tbody>\n",
       "</table>\n",
       "<p>450 rows × 3 columns</p>\n",
       "</div>"
      ],
      "text/plain": [
       "        категория                                       наименование      цена\n",
       "0    Морепродукты               Креветки Королевские 26/30 очищенные   5 290 Т\n",
       "1    Морепродукты               Креветка Королевская 31/40 очищенная   5 900 Т\n",
       "2    Морепродукты       Лангустины в панцире с головой, размер 21-30   6 500 Т\n",
       "3    Морепродукты  Креветка Королевская  21/25, в панцире без головы   5 500 Т\n",
       "4    Морепродукты                            Чука салат замороженный   2 800 Т\n",
       "..            ...                                                ...       ...\n",
       "445         Масло                          Масло Авокадо Avocado Oil   4 000 Т\n",
       "446         Масло                        Масло Сливочное BURRO ASOLO   1 790 Т\n",
       "447         Кухня                        Сковорода для Паэльи  38 см   9 000 Т\n",
       "448         Кухня                    Чугунная Сковорода Гриль VAELLO  12 500 Т\n",
       "449         Кухня                  Чугунная Сковорода Круглая VAELLO  13 000 Т\n",
       "\n",
       "[450 rows x 3 columns]"
      ]
     },
     "execution_count": 11,
     "metadata": {},
     "output_type": "execute_result"
    }
   ],
   "source": [
    "df = pd.DataFrame()\n",
    "df['категория'] = catname\n",
    "df['наименование'] = name_list\n",
    "df['цена'] = price_list\n",
    "df"
   ]
  },
  {
   "cell_type": "code",
   "execution_count": 31,
   "metadata": {},
   "outputs": [],
   "source": [
    "df.to_excel('kingfisher.xlsx')"
   ]
  }
 ],
 "metadata": {
  "kernelspec": {
   "display_name": "Python 3",
   "language": "python",
   "name": "python3"
  },
  "language_info": {
   "codemirror_mode": {
    "name": "ipython",
    "version": 3
   },
   "file_extension": ".py",
   "mimetype": "text/x-python",
   "name": "python",
   "nbconvert_exporter": "python",
   "pygments_lexer": "ipython3",
   "version": "3.8.3"
  }
 },
 "nbformat": 4,
 "nbformat_minor": 4
}
